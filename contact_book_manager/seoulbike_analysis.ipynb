{
 "cells": [
  {
   "cell_type": "code",
   "execution_count": 9,
   "id": "487cec0b",
   "metadata": {},
   "outputs": [
    {
     "name": "stdout",
     "output_type": "stream",
     "text": [
      "Series Example:\n",
      " a    10\n",
      "b    20\n",
      "c    30\n",
      "dtype: int64 \n",
      "\n"
     ]
    }
   ],
   "source": [
    "import pandas as pd\n",
    "\n",
    "# Series Example\n",
    "s = pd.Series([10, 20, 30], index=['a', 'b', 'c'])\n",
    "print(\"Series Example:\\n\", s.head(), \"\\n\")\n"
   ]
  },
  {
   "cell_type": "code",
   "execution_count": 10,
   "id": "61efc3b2",
   "metadata": {},
   "outputs": [
    {
     "name": "stdout",
     "output_type": "stream",
     "text": [
      "Example DataFrame:\n",
      "      name  age   hobies\n",
      "0    Lucy   18  reading\n",
      "1  Silver   23    music \n",
      "\n"
     ]
    }
   ],
   "source": [
    "# DataFrame Example\n",
    "df_example = pd.DataFrame({\n",
    "    'name': ['Lucy', 'Silver'],\n",
    "    'age': [18, 23],\n",
    "    'hobies': ['reading', 'music']\n",
    "})\n",
    "print(\"Example DataFrame:\\n\", df_example, \"\\n\")\n"
   ]
  },
  {
   "cell_type": "code",
   "execution_count": 11,
   "id": "6accd1b2",
   "metadata": {},
   "outputs": [
    {
     "name": "stdout",
     "output_type": "stream",
     "text": [
      "First 15 rows:\n",
      "           Date  Rented Bike Count  Hour  Temperature(°C)  Humidity(%)  \\\n",
      "0   01/12/2017                254     0             -5.2           37   \n",
      "1   01/12/2017                204     1             -5.5           38   \n",
      "2   01/12/2017                173     2             -6.0           39   \n",
      "3   01/12/2017                107     3             -6.2           40   \n",
      "4   01/12/2017                 78     4             -6.0           36   \n",
      "5   01/12/2017                100     5             -6.4           37   \n",
      "6   01/12/2017                181     6             -6.6           35   \n",
      "7   01/12/2017                460     7             -7.4           38   \n",
      "8   01/12/2017                930     8             -7.6           37   \n",
      "9   01/12/2017                490     9             -6.5           27   \n",
      "10  01/12/2017                339    10             -3.5           24   \n",
      "11  01/12/2017                360    11             -0.5           21   \n",
      "12  01/12/2017                449    12              1.7           23   \n",
      "13  01/12/2017                451    13              2.4           25   \n",
      "14  01/12/2017                447    14              3.0           26   \n",
      "\n",
      "    Wind speed (m/s)  Visibility (10m)  Dew point temperature(°C)  \\\n",
      "0                2.2              2000                      -17.6   \n",
      "1                0.8              2000                      -17.6   \n",
      "2                1.0              2000                      -17.7   \n",
      "3                0.9              2000                      -17.6   \n",
      "4                2.3              2000                      -18.6   \n",
      "5                1.5              2000                      -18.7   \n",
      "6                1.3              2000                      -19.5   \n",
      "7                0.9              2000                      -19.3   \n",
      "8                1.1              2000                      -19.8   \n",
      "9                0.5              1928                      -22.4   \n",
      "10               1.2              1996                      -21.2   \n",
      "11               1.3              1936                      -20.2   \n",
      "12               1.4              2000                      -17.2   \n",
      "13               1.6              2000                      -15.6   \n",
      "14               2.0              2000                      -14.6   \n",
      "\n",
      "    Solar Radiation (MJ/m2)  Rainfall(mm)  Snowfall (cm) Seasons     Holiday  \\\n",
      "0                      0.00           0.0            0.0  Winter  No Holiday   \n",
      "1                      0.00           0.0            0.0  Winter  No Holiday   \n",
      "2                      0.00           0.0            0.0  Winter  No Holiday   \n",
      "3                      0.00           0.0            0.0  Winter  No Holiday   \n",
      "4                      0.00           0.0            0.0  Winter  No Holiday   \n",
      "5                      0.00           0.0            0.0  Winter  No Holiday   \n",
      "6                      0.00           0.0            0.0  Winter  No Holiday   \n",
      "7                      0.00           0.0            0.0  Winter  No Holiday   \n",
      "8                      0.01           0.0            0.0  Winter  No Holiday   \n",
      "9                      0.23           0.0            0.0  Winter  No Holiday   \n",
      "10                     0.65           0.0            0.0  Winter  No Holiday   \n",
      "11                     0.94           0.0            0.0  Winter  No Holiday   \n",
      "12                     1.11           0.0            0.0  Winter  No Holiday   \n",
      "13                     1.16           0.0            0.0  Winter  No Holiday   \n",
      "14                     1.01           0.0            0.0  Winter  No Holiday   \n",
      "\n",
      "   Functioning Day  \n",
      "0              Yes  \n",
      "1              Yes  \n",
      "2              Yes  \n",
      "3              Yes  \n",
      "4              Yes  \n",
      "5              Yes  \n",
      "6              Yes  \n",
      "7              Yes  \n",
      "8              Yes  \n",
      "9              Yes  \n",
      "10             Yes  \n",
      "11             Yes  \n",
      "12             Yes  \n",
      "13             Yes  \n",
      "14             Yes   \n",
      "\n"
     ]
    }
   ],
   "source": [
    "import os\n",
    "import pandas as pd\n",
    "\n",
    "# Update this path to where your SeoulBikeData.csv is actually located\n",
    "csv_path = r\"C:\\Users\\welcome\\Documents\\SeoulBikeData.csv\"  # <-- change path\n",
    "\n",
    "# Check if file exists before loading\n",
    "if not os.path.exists(csv_path):\n",
    "    raise FileNotFoundError(f\"File not found at: {csv_path}\\nPlease update the path above.\")\n",
    "\n",
    "# Load Seoul Bike Dataset\n",
    "df = pd.read_csv(csv_path, encoding=\"ISO-8859-1\")\n",
    "print(\"First 15 rows:\\n\", df.head(15), \"\\n\")\n"
   ]
  },
  {
   "cell_type": "code",
   "execution_count": 12,
   "id": "c4e030f1",
   "metadata": {},
   "outputs": [],
   "source": [
    "# Fill missing values (mean for numeric columns)\n",
    "df = df.fillna(df.mean(numeric_only=True))\n"
   ]
  },
  {
   "cell_type": "code",
   "execution_count": 13,
   "id": "d93db817",
   "metadata": {},
   "outputs": [],
   "source": [
    "# Rename columns\n",
    "df.rename(columns={\"Rented Bike Count\": \"Rented_Bike_Count\"}, inplace=True)\n"
   ]
  },
  {
   "cell_type": "code",
   "execution_count": 14,
   "id": "936495de",
   "metadata": {},
   "outputs": [],
   "source": [
    "# Change datatype\n",
    "df[\"Rented_Bike_Count\"] = df[\"Rented_Bike_Count\"].astype(float)\n"
   ]
  },
  {
   "cell_type": "code",
   "execution_count": 15,
   "id": "3ce3b65f",
   "metadata": {},
   "outputs": [],
   "source": [
    "# Sort values\n",
    "df.sort_values([\"Temperature(°C)\", \"Rented_Bike_Count\"], ascending=[True, False], inplace=True)\n"
   ]
  },
  {
   "cell_type": "code",
   "execution_count": 16,
   "id": "0c3aad81",
   "metadata": {},
   "outputs": [],
   "source": [
    "# Apply function to double the count\n",
    "df[\"Rented_Bike_Count_Double\"] = df[\"Rented_Bike_Count\"].apply(lambda x: x * 2)\n"
   ]
  },
  {
   "cell_type": "code",
   "execution_count": 17,
   "id": "2cac084b",
   "metadata": {},
   "outputs": [
    {
     "name": "stdout",
     "output_type": "stream",
     "text": [
      "Average rentals by Hour:\n",
      " Hour\n",
      "0      541.460274\n",
      "1      426.183562\n",
      "2      301.630137\n",
      "3      203.331507\n",
      "4      132.591781\n",
      "5      139.082192\n",
      "6      287.564384\n",
      "7      606.005479\n",
      "8     1015.701370\n",
      "9      645.983562\n",
      "10     527.821918\n",
      "11     600.852055\n",
      "12     699.441096\n",
      "13     733.246575\n",
      "14     758.824658\n",
      "15     829.186301\n",
      "16     930.621918\n",
      "17    1138.509589\n",
      "18    1502.926027\n",
      "19    1195.147945\n",
      "20    1068.964384\n",
      "21    1031.449315\n",
      "22     922.797260\n",
      "23     671.126027\n",
      "Name: Rented_Bike_Count, dtype: float64 \n",
      "\n"
     ]
    }
   ],
   "source": [
    "# GroupBy single column\n",
    "store_group = df.groupby(\"Hour\")[\"Rented_Bike_Count\"].mean()\n",
    "print(\"Average rentals by Hour:\\n\", store_group, \"\\n\")\n"
   ]
  },
  {
   "cell_type": "code",
   "execution_count": 18,
   "id": "39f9c6b6",
   "metadata": {},
   "outputs": [
    {
     "name": "stdout",
     "output_type": "stream",
     "text": [
      "Total rentals by Hour and Season:\n",
      " Hour  Seasons\n",
      "0     Autumn      56755.0\n",
      "      Spring      43298.0\n",
      "      Summer      82714.0\n",
      "      Winter      14866.0\n",
      "1     Autumn      44200.0\n",
      "                   ...   \n",
      "22    Winter      20262.0\n",
      "23    Autumn      67127.0\n",
      "      Spring      56066.0\n",
      "      Summer     106159.0\n",
      "      Winter      15609.0\n",
      "Name: Rented_Bike_Count, Length: 96, dtype: float64 \n",
      "\n"
     ]
    }
   ],
   "source": [
    "# GroupBy multiple columns\n",
    "multi_group = df.groupby([\"Hour\", \"Seasons\"])[\"Rented_Bike_Count\"].sum()\n",
    "print(\"Total rentals by Hour and Season:\\n\", multi_group, \"\\n\")\n"
   ]
  },
  {
   "cell_type": "code",
   "execution_count": 19,
   "id": "25f37ce8",
   "metadata": {},
   "outputs": [
    {
     "name": "stdout",
     "output_type": "stream",
     "text": [
      "Aggregated data:\n",
      "          Rented_Bike_Count  Temperature(°C)\n",
      "Seasons                                    \n",
      "Autumn          819.597985             30.5\n",
      "Spring          730.031250             29.4\n",
      "Summer         1034.073370             39.4\n",
      "Winter          225.541204             10.3 \n",
      "\n"
     ]
    }
   ],
   "source": [
    "# Aggregation\n",
    "agg_df = df.groupby(\"Seasons\").agg({\"Rented_Bike_Count\": \"mean\", \"Temperature(°C)\": \"max\"})\n",
    "print(\"Aggregated data:\\n\", agg_df, \"\\n\")\n"
   ]
  },
  {
   "cell_type": "code",
   "execution_count": 20,
   "id": "481b67c3",
   "metadata": {},
   "outputs": [],
   "source": [
    "# Date conversion\n",
    "df[\"Date\"] = pd.to_datetime(df[\"Date\"], format=\"%d/%m/%Y\")\n"
   ]
  },
  {
   "cell_type": "code",
   "execution_count": 21,
   "id": "d36b14ee",
   "metadata": {},
   "outputs": [],
   "source": [
    "# Create small DataFrame for merge\n",
    "prod_info = pd.DataFrame({\n",
    "    \"Hour\": [0, 1, 2],\n",
    "    \"Category\": [\"Late Night\", \"Early Morning\", \"Early Morning\"]\n",
    "})\n"
   ]
  },
  {
   "cell_type": "code",
   "execution_count": 22,
   "id": "cb02631b",
   "metadata": {},
   "outputs": [],
   "source": [
    "# Merge\n",
    "merged_df = df.merge(prod_info, on=\"Hour\", how=\"left\")\n"
   ]
  },
  {
   "cell_type": "code",
   "execution_count": 23,
   "id": "4a949f67",
   "metadata": {},
   "outputs": [
    {
     "name": "stdout",
     "output_type": "stream",
     "text": [
      "Pivot Table:\n",
      " Seasons    Autumn    Spring    Summer   Winter\n",
      "Hour                                          \n",
      "0         56755.0   43298.0   82714.0  14866.0\n",
      "1         44200.0   32755.0   64287.0  14315.0\n",
      "2         30198.0   22767.0   46529.0  10601.0\n",
      "3         20524.0   15163.0   31526.0   7003.0\n",
      "4         13522.0    9740.0   20591.0   4543.0\n",
      "5         13073.0   10456.0   22626.0   4610.0\n",
      "6         28759.0   23151.0   44697.0   8354.0\n",
      "7         63899.0   55376.0   83056.0  18861.0\n",
      "8        108948.0   93274.0  130511.0  37998.0\n",
      "9         68723.0   60335.0   83812.0  22914.0\n",
      "10        57937.0   51380.0   66562.0  16776.0\n",
      "11        65039.0   61332.0   72391.0  20549.0\n",
      "12        75706.0   75274.0   80589.0  23727.0\n",
      "13        81216.0   79748.0   81898.0  24773.0\n",
      "14        85765.0   83310.0   82310.0  25586.0\n",
      "15        93693.0   89188.0   92894.0  26878.0\n",
      "16       104750.0   99131.0  108024.0  27772.0\n",
      "17       126593.0  117718.0  140419.0  30826.0\n",
      "18       160650.0  152038.0  196433.0  39447.0\n",
      "19       122761.0  112294.0  173811.0  27363.0\n",
      "20       107058.0   95446.0  165777.0  21891.0\n",
      "21       101559.0   91901.0  161374.0  21645.0\n",
      "22        91547.0   80768.0  144244.0  20262.0\n",
      "23        67127.0   56066.0  106159.0  15609.0 \n",
      "\n"
     ]
    }
   ],
   "source": [
    "# Pivot table\n",
    "pivot_df = pd.pivot_table(df, values=\"Rented_Bike_Count\", index=\"Hour\", columns=\"Seasons\", aggfunc=\"sum\")\n",
    "print(\"Pivot Table:\\n\", pivot_df, \"\\n\")\n"
   ]
  },
  {
   "cell_type": "code",
   "execution_count": 24,
   "id": "4edab9dd",
   "metadata": {},
   "outputs": [
    {
     "name": "stdout",
     "output_type": "stream",
     "text": [
      "Processing complete. Files saved.\n"
     ]
    }
   ],
   "source": [
    "# Save results\n",
    "df.to_csv(\"seoulbike_processed.csv\", index=False)\n",
    "df.to_excel(\"seoulbike_processed.xlsx\", index=False)\n",
    "\n",
    "print(\"Processing complete. Files saved.\")\n"
   ]
  },
  {
   "cell_type": "code",
   "execution_count": null,
   "id": "11035550",
   "metadata": {},
   "outputs": [],
   "source": []
  }
 ],
 "metadata": {
  "kernelspec": {
   "display_name": ".venv",
   "language": "python",
   "name": "python3"
  },
  "language_info": {
   "codemirror_mode": {
    "name": "ipython",
    "version": 3
   },
   "file_extension": ".py",
   "mimetype": "text/x-python",
   "name": "python",
   "nbconvert_exporter": "python",
   "pygments_lexer": "ipython3",
   "version": "3.11.9"
  }
 },
 "nbformat": 4,
 "nbformat_minor": 5
}
